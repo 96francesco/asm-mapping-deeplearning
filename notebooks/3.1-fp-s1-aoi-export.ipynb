{
  "nbformat": 4,
  "nbformat_minor": 0,
  "metadata": {
    "colab": {
      "provenance": []
    },
    "kernelspec": {
      "name": "python3",
      "display_name": "Python 3"
    },
    "language_info": {
      "name": "python"
    }
  },
  "cells": [
    {
      "cell_type": "markdown",
      "source": [
        "In this notebook, I used the Planet-NICFI images that I previously exported and visually reviewed to check if the ASM site is still visible to create boxes and use them to export Sentinel-1 images. The index string of the Sentinel-1 image corresponds to the Planet-NICFI index, this way the images can be overlapped."
      ],
      "metadata": {
        "id": "02srWDYCor3r"
      }
    },
    {
      "cell_type": "markdown",
      "source": [
        "# 0) Import packages\n"
      ],
      "metadata": {
        "id": "C4qM5dcXGpJh"
      }
    },
    {
      "cell_type": "code",
      "execution_count": null,
      "metadata": {
        "id": "LhTzRrSYO_8_"
      },
      "outputs": [],
      "source": [
        "import os\n",
        "import sys\n",
        "\n",
        "import ee\n",
        "import geemap\n",
        "import json\n",
        "\n",
        "from google.colab import files"
      ]
    },
    {
      "cell_type": "code",
      "source": [
        "# clone repository to execute Sentinel-1 data preprocessing\n",
        "!git clone https://github.com/adugnag/gee_s1_ard.git\n",
        "\n",
        "sys.path.append('/content/gee_s1_ard/python-api')"
      ],
      "metadata": {
        "id": "tfdFLFkiZKLA"
      },
      "execution_count": null,
      "outputs": []
    },
    {
      "cell_type": "code",
      "source": [
        "from google.colab import drive\n",
        "drive.mount('/content/drive')"
      ],
      "metadata": {
        "id": "FqBNT-uhpR6f"
      },
      "execution_count": null,
      "outputs": []
    },
    {
      "cell_type": "code",
      "source": [
        "Map = geemap.Map() # initialize GEE and geemap"
      ],
      "metadata": {
        "id": "rCJxLc5aw9xS"
      },
      "execution_count": null,
      "outputs": []
    },
    {
      "cell_type": "code",
      "source": [
        "# import function for preprocessing\n",
        "from wrapper import s1_preproc"
      ],
      "metadata": {
        "id": "rrVa9Le7n5-w"
      },
      "execution_count": null,
      "outputs": []
    },
    {
      "cell_type": "markdown",
      "source": [
        "# 1) Upload and visualize administrative borders"
      ],
      "metadata": {
        "id": "m1l6msUwntjb"
      }
    },
    {
      "cell_type": "code",
      "source": [
        "# upload the geojson with the administrative borders (from GADM)\n",
        "uploaded = files.upload()"
      ],
      "metadata": {
        "id": "byPCNTCwHZ1R"
      },
      "execution_count": null,
      "outputs": []
    },
    {
      "cell_type": "code",
      "source": [
        "# get the filename\n",
        "filename = next(iter(uploaded))"
      ],
      "metadata": {
        "id": "NWKgMxr4Hbs7"
      },
      "execution_count": null,
      "outputs": []
    },
    {
      "cell_type": "code",
      "source": [
        "# load the GeoJSON file into dictionary\n",
        "with open(filename, 'r') as f:\n",
        "    geojson_dict = json.load(f)"
      ],
      "metadata": {
        "id": "UHosmnGCHpMk"
      },
      "execution_count": null,
      "outputs": []
    },
    {
      "cell_type": "code",
      "source": [
        "# convert geojson to ee.FeatureCollection\n",
        "ee_object = geemap.geojson_to_ee(geojson_dict)"
      ],
      "metadata": {
        "id": "RYKVhElcHnKf"
      },
      "execution_count": null,
      "outputs": []
    },
    {
      "cell_type": "code",
      "source": [
        "Map.addLayer(ee_object, {}, 'Area of interest')\n",
        "Map.centerObject(ee_object)\n",
        "Map"
      ],
      "metadata": {
        "id": "dYjaEX2uIfUm"
      },
      "execution_count": null,
      "outputs": []
    },
    {
      "cell_type": "markdown",
      "source": [
        "# 2) Access and preprocess Sentinel-1 data"
      ],
      "metadata": {
        "id": "zh_g76Gtnyp5"
      }
    },
    {
      "cell_type": "code",
      "source": [
        "params = {\n",
        "    'APPLY_BORDER_NOISE_CORRECTION': True,\n",
        "    'APPLY_TERRAIN_FLATTENING': True,\n",
        "    'APPLY_SPECKLE_FILTERING': False,\n",
        "    'POLARIZATION': 'VVVH',\n",
        "    'ORBIT': 'BOTH',\n",
        "    'START_DATE': '2023-01-01',\n",
        "    'STOP_DATE': '2023-06-30',\n",
        "    'ROI': ee_object.geometry(),\n",
        "    'PLATFORM_NUMBER': 'A',\n",
        "    'ORBIT_NUM': None,\n",
        "    'SPECKLE_FILTER_FRAMEWORK': 'MULTI',\n",
        "    'SPECKLE_FILTER': 'GAMMA MAP',\n",
        "    'SPECKLE_FILTER_KERNEL_SIZE': 3,\n",
        "    'SPECKLE_FILTER_NR_OF_IMAGES': 10,\n",
        "    'DEM': ee.Image('USGS/SRTMGL1_003'),\n",
        "    'TERRAIN_FLATTENING_MODEL': 'VOLUME',\n",
        "    'TERRAIN_FLATTENING_ADDITIONAL_LAYOVER_SHADOW_BUFFER': 0,\n",
        "    'FORMAT': 'DB',\n",
        "    'CLIP_TO_ROI': False,\n",
        "    'SAVE_ASSET': False,\n",
        "    'ASSET_ID': None\n",
        "}"
      ],
      "metadata": {
        "id": "b-rmSnGvbTCH"
      },
      "execution_count": null,
      "outputs": []
    },
    {
      "cell_type": "code",
      "source": [
        "processed_s1_collection = s1_preproc(params)"
      ],
      "metadata": {
        "id": "G1o_iFsTbxuF"
      },
      "execution_count": null,
      "outputs": []
    },
    {
      "cell_type": "code",
      "source": [
        "# select VV and VH band and make a median composite\n",
        "s1_images_preprocessed = processed_s1_collection.select(['VV', 'VH']).mean()"
      ],
      "metadata": {
        "id": "wRGFmUUKdTPC"
      },
      "execution_count": null,
      "outputs": []
    },
    {
      "cell_type": "code",
      "source": [
        "Map.addLayer(s1_images_preprocessed, {'min': -25, 'max': 5, 'bands': 'VV'}, f'Sentinel-1 VV')\n",
        "Map.addLayer(s1_images_preprocessed, {'min': -25, 'max': 5, 'bands': 'VH'}, f'Sentinel-1 VH')\n",
        "Map"
      ],
      "metadata": {
        "id": "VJnbuMBUKquQ"
      },
      "execution_count": null,
      "outputs": []
    },
    {
      "cell_type": "markdown",
      "source": [
        "# 3) Make grid and export tiles"
      ],
      "metadata": {
        "id": "Xl2pEr7en3QN"
      }
    },
    {
      "cell_type": "code",
      "source": [
        "def generate_grid(region, scale, pixelWidth=375, pixelHeight=375):\n",
        "    bounds = region.geometry().bounds()\n",
        "    coords = ee.List(bounds.coordinates().get(0))\n",
        "\n",
        "    # extract the coordinates from AOI\n",
        "    xmin = ee.List(coords.get(0)).get(0)\n",
        "    ymin = ee.List(coords.get(0)).get(1)\n",
        "    xmax = ee.List(coords.get(2)).get(0)\n",
        "    ymax = ee.List(coords.get(2)).get(1)\n",
        "\n",
        "    # calculate the width and height in meters of each tile\n",
        "    width_in_meters = ee.Number(pixelWidth).multiply(scale)\n",
        "    height_in_meters = ee.Number(pixelHeight).multiply(scale)\n",
        "\n",
        "    # convert meters to degrees approximately for longitude and latitude\n",
        "    # this is done in an approximate way, using a conversion factor for degrees\n",
        "    dx = width_in_meters.divide(111320)\n",
        "    dy = height_in_meters.divide(110540)\n",
        "\n",
        "    # create sequences for longitude and latitude to generate grid points\n",
        "    longs = ee.List.sequence(xmin, xmax, dx)\n",
        "    lats = ee.List.sequence(ymax, ymin, dy.multiply(-1))  # ensure decrement for latitude\n",
        "\n",
        "    # helper function to create grid rectangles\n",
        "    def make_rects_lon(lon):\n",
        "        lon = ee.Number(lon)  # lon must be ee.Number for arithmetic operations\n",
        "        def make_rects_lat(lat):\n",
        "            lat = ee.Number(lat)  # same for lat\n",
        "            rect = ee.Geometry.Rectangle([lon, lat, lon.add(dx), lat.add(dy)])\n",
        "            return ee.Feature(rect)\n",
        "\n",
        "        return lats.map(make_rects_lat)\n",
        "\n",
        "    # make the grid and flatten the resulting list of lists\n",
        "    rects = longs.map(make_rects_lon).flatten()\n",
        "    grid = ee.FeatureCollection(rects)\n",
        "\n",
        "    return grid\n",
        "\n",
        "def save_progress(index):\n",
        "    with open(\"export_progress.txt\", \"w\") as file:\n",
        "        file.write(str(index))\n",
        "\n",
        "def load_progress():\n",
        "    try:\n",
        "        with open(\"export_progress.txt\", \"r\") as file:\n",
        "            return int(file.read())\n",
        "    except FileNotFoundError:\n",
        "        return 0  # default to 0 if the progress file doesn't exist\n",
        "\n",
        "def export_single_tile(image, tile, folder_name, index, scale=10):\n",
        "    clipped_image = image.clip(tile.geometry())\n",
        "\n",
        "    # include index in the image name\n",
        "    description = f's1_{index}'\n",
        "\n",
        "    task = ee.batch.Export.image.toDrive(\n",
        "        image=clipped_image,\n",
        "        description=description,\n",
        "        folder=folder_name,\n",
        "        scale=scale,\n",
        "        maxPixels=1e13\n",
        "    )\n",
        "    task.start()\n",
        "\n",
        "def export_tiles(image_collection, grid, aoi, folder_name, scale=10):\n",
        "    # load the last completed tile index\n",
        "    start_index = load_progress()\n",
        "    total_tiles = grid.size().getInfo()\n",
        "\n",
        "    # filter the grid to include only cells that intersect the AOI\n",
        "    intersecting_cells = grid.filterBounds(aoi)\n",
        "\n",
        "    # get list of intersecting cells\n",
        "    intersecting_list = intersecting_cells.toList(intersecting_cells.size())\n",
        "\n",
        "    # update the total number of tiles to the number of intersecting cells\n",
        "    total_tiles = intersecting_cells.size().getInfo()\n",
        "\n",
        "    for i in range(start_index, total_tiles):\n",
        "        # get the current tile\n",
        "        tile = ee.Feature(intersecting_list.get(i))\n",
        "        description = f's1_{i}'\n",
        "\n",
        "        # start the export task\n",
        "        task = ee.batch.Export.image.toDrive(\n",
        "            image=image_collection,\n",
        "            description=description,\n",
        "            folder=folder_name,\n",
        "            scale=scale,\n",
        "            region=tile.geometry().bounds(),  # use the bounds of the tile\n",
        "            maxPixels=1e13\n",
        "        )\n",
        "        task.start()\n",
        "\n",
        "        # save progress after each successful submission\n",
        "        save_progress(i + 1)\n",
        "        print(f'Submitted tile {i+1} of {total_tiles}')"
      ],
      "metadata": {
        "id": "8I3w3AmVKjYo"
      },
      "execution_count": null,
      "outputs": []
    },
    {
      "cell_type": "code",
      "source": [
        "# generate grid\n",
        "grid_tiles = generate_grid(ee_object, 10, 180, 180)"
      ],
      "metadata": {
        "id": "KeDr9l0pKxqo"
      },
      "execution_count": null,
      "outputs": []
    },
    {
      "cell_type": "code",
      "source": [
        "# run the export\n",
        "# when the process stops because of too many tasks submitted, after a while just\n",
        "# run again this line; it will read the export_progress file and start over from\n",
        "# where it stopped\n",
        "export_tiles(s1_images_preprocessed, grid_tiles, ee_object, \"s1_tiles\", 10)"
      ],
      "metadata": {
        "id": "KHZd-jWRLEK2"
      },
      "execution_count": null,
      "outputs": []
    },
    {
      "cell_type": "code",
      "source": [
        "# !earthengine task cancel all"
      ],
      "metadata": {
        "id": "XzuKpA90ohXf"
      },
      "execution_count": null,
      "outputs": []
    }
  ]
}