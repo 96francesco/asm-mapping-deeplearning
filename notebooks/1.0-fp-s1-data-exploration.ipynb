{
 "cells": [
  {
   "cell_type": "markdown",
   "metadata": {},
   "source": [
    "# 0) Import packages"
   ]
  },
  {
   "cell_type": "code",
   "execution_count": null,
   "metadata": {},
   "outputs": [],
   "source": [
    "import os\n",
    "import matplotlib.pyplot as plt\n",
    "import torch\n",
    "import numpy as np\n",
    "\n",
    "from pytorch_lightning import seed_everything\n",
    "\n",
    "# import custom libraries\n",
    "from data.s1_dataset import Sentinel1Dataset\n",
    "from data.s1_dataset_normalization import linear_norm_global_minmax, linear_norm_global_percentile, global_standardization"
   ]
  },
  {
   "cell_type": "code",
   "execution_count": null,
   "metadata": {},
   "outputs": [],
   "source": [
    "seed_everything(96, workers=True)"
   ]
  },
  {
   "cell_type": "markdown",
   "metadata": {},
   "source": [
    "# 1) Initialize and inspect dataset"
   ]
  },
  {
   "cell_type": "code",
   "execution_count": null,
   "metadata": {},
   "outputs": [],
   "source": [
    "training_dir = '/mnt/guanabana/raid/home/pasan001/thesis/dataset/asm_dataset_split_0/s1/training_data'\n",
    "\n",
    "training_dataset = Sentinel1Dataset(training_dir,\n",
    "                                 pad=False,\n",
    "                                 normalization=linear_norm_global_minmax)"
   ]
  },
  {
   "cell_type": "code",
   "execution_count": null,
   "metadata": {},
   "outputs": [],
   "source": [
    "training_dataset[0][0]"
   ]
  },
  {
   "cell_type": "code",
   "execution_count": null,
   "metadata": {},
   "outputs": [],
   "source": [
    "def plot_band_histograms(image):\n",
    "    bands = ['VV', 'VH']\n",
    "    plt.figure(figsize=(10, 8))\n",
    "\n",
    "    for i, band in enumerate(bands):\n",
    "        plt.subplot(2, 2, i + 1)\n",
    "        plt.hist(image[i].ravel(), bins=256, color='k', alpha=0.5)\n",
    "        plt.title(f'{band} band histogram')\n",
    "        plt.xlim([-30, 0])\n",
    "        plt.ylim([0, 1000])\n",
    "    plt.tight_layout()\n",
    "    plt.show()\n",
    "\n",
    "def plot_example(dataset, normalization, indices=None, num_examples=3):\n",
    "    if indices is None:\n",
    "        indices = torch.randint(len(dataset), size=(num_examples,)).tolist()\n",
    "    else:\n",
    "        num_examples = len(indices)\n",
    "    \n",
    "    fig, axs = plt.subplots(num_examples, 3, figsize=(10, num_examples * 4))\n",
    "\n",
    "    for i, idx in enumerate(indices):\n",
    "        img_tensor, gt_tensor = dataset[idx]\n",
    "        img_file_name = dataset.dataset[idx][0]\n",
    "        img_index = img_file_name.split('_')[-1].split('.')[0]\n",
    "\n",
    "        # check and convert data type for visualisation\n",
    "        img = img_tensor.numpy()\n",
    "\n",
    "        if normalization is not None:\n",
    "            img = normalization(img)\n",
    "\n",
    "        gt = gt_tensor.numpy()\n",
    "\n",
    "        # make plots\n",
    "        axs[i, 0].imshow(img[0],  cmap='gray')\n",
    "        axs[i, 0].set_title(f\"Image {img_index} - VV\")\n",
    "        axs[i, 0].axis('off')\n",
    "\n",
    "        axs[i, 1].imshow(img[1],  cmap='gray')\n",
    "        axs[i, 1].set_title(f\"Image {img_index} - VH\")\n",
    "        axs[i, 1].axis('off')\n",
    "\n",
    "        axs[i, 2].imshow(gt, cmap='gray')\n",
    "        axs[i, 2].set_title(f\"Ground Truth {img_index}\")\n",
    "        axs[i, 2].axis('off')\n",
    "\n",
    "    plt.tight_layout()\n",
    "    plt.show()"
   ]
  },
  {
   "cell_type": "code",
   "execution_count": null,
   "metadata": {},
   "outputs": [],
   "source": [
    "plot_band_histograms(training_dataset[0][0])"
   ]
  },
  {
   "cell_type": "code",
   "execution_count": null,
   "metadata": {},
   "outputs": [],
   "source": [
    "plot_example(training_dataset, indices=[10, 765, 458], normalization=linear_norm_global_percentile)"
   ]
  }
 ],
 "metadata": {
  "kernelspec": {
   "display_name": "asmenv",
   "language": "python",
   "name": "python3"
  },
  "language_info": {
   "codemirror_mode": {
    "name": "ipython",
    "version": 3
   },
   "file_extension": ".py",
   "mimetype": "text/x-python",
   "name": "python",
   "nbconvert_exporter": "python",
   "pygments_lexer": "ipython3",
   "version": "3.10.13"
  }
 },
 "nbformat": 4,
 "nbformat_minor": 2
}
