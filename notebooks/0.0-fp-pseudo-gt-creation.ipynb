{
  "nbformat": 4,
  "nbformat_minor": 0,
  "metadata": {
    "colab": {
      "provenance": [],
      "machine_shape": "hm",
      "collapsed_sections": [
        "wQPhGCfyx0Y0",
        "DUXgYzIS64O6",
        "XG5xMHTe9IRu"
      ]
    },
    "kernelspec": {
      "name": "python3",
      "display_name": "Python 3"
    },
    "language_info": {
      "name": "python"
    }
  },
  "cells": [
    {
      "cell_type": "markdown",
      "source": [
        "This notebook was created to obtain pseudo-ground truth images for the study. The ground truth images were generated using K-means over Planet-NICFI imagery, then water bodies and building footprint products available on GEE were used to refine it.\n",
        "\n",
        "Note: this notebook was used on Google Colab, thus it might be necessary to install some packages in the environment if you want to run it locally. Also the directories need to be changed.\n"
      ],
      "metadata": {
        "id": "tQe-gqc6qVsS"
      }
    },
    {
      "cell_type": "markdown",
      "source": [
        "# 0) Install and import packages"
      ],
      "metadata": {
        "id": "UXaN_yotlDt2"
      }
    },
    {
      "cell_type": "code",
      "source": [
        "import os\n",
        "\n",
        "import ee\n",
        "import geemap\n",
        "import geopandas as gpd\n",
        "import pandas as pd\n",
        "import matplotlib.pyplot as plt\n",
        "\n",
        "from shapely.geometry import Point\n",
        "from google.colab import files"
      ],
      "metadata": {
        "id": "LJKzB0Chk-im"
      },
      "execution_count": null,
      "outputs": []
    },
    {
      "cell_type": "code",
      "source": [
        "Map = geemap.Map() # initialize GEE and geemap"
      ],
      "metadata": {
        "id": "2HJaTuwu9AnD"
      },
      "execution_count": null,
      "outputs": []
    },
    {
      "cell_type": "markdown",
      "source": [
        "# 1) Data upload and transformation\n"
      ],
      "metadata": {
        "id": "6mkeg8Z_43As"
      }
    },
    {
      "cell_type": "code",
      "source": [
        "uploads = files.upload()"
      ],
      "metadata": {
        "id": "5DJooKedl0dY"
      },
      "execution_count": null,
      "outputs": []
    },
    {
      "cell_type": "code",
      "source": [
        "asm_sites = gpd.read_file('/content/visible_asm.geojson')"
      ],
      "metadata": {
        "id": "hu4HFWw3uhfu"
      },
      "execution_count": null,
      "outputs": []
    },
    {
      "cell_type": "code",
      "source": [
        "# convert dataset to GeoSeries\n",
        "asm_series = gpd.GeoSeries(asm_sites.geometry)\n",
        "\n",
        "# set WGS 84 as CRS to display everything with geemap\n",
        "asm_series = asm_series.to_crs(4326)\n",
        "\n",
        "# create buffers, distance is in degrees, roughly 1 km\n",
        "asm_buffer = asm_series.buffer(distance=0.008)\n",
        "\n",
        "asm_boxes = asm_buffer.envelope"
      ],
      "metadata": {
        "id": "qk85v_Puo9Cb"
      },
      "execution_count": null,
      "outputs": []
    },
    {
      "cell_type": "code",
      "source": [
        "# check if the boxes have been correctly created\n",
        "fig, ax1 = plt.subplots()\n",
        "asm_boxes.boundary.plot(ax=ax1, color='red')"
      ],
      "metadata": {
        "id": "-Yv9yc1oxCkb"
      },
      "execution_count": null,
      "outputs": []
    },
    {
      "cell_type": "code",
      "source": [
        "# convert the rectangles to ee.Geometry objects\n",
        "ee_boxes = []\n",
        "for geom in asm_boxes:\n",
        "    coords = list(geom.exterior.coords)\n",
        "    bbox_coords = [coords[0], coords[2]]  # get 1st and 3rd coord\n",
        "    rectangle = ee.Geometry.Rectangle(bbox_coords)\n",
        "    ee_boxes.append(rectangle)\n",
        "\n",
        "\n",
        "# create a single geometry that combines all the bounding boxes\n",
        "combined_geometry = ee.FeatureCollection(ee_boxes)"
      ],
      "metadata": {
        "id": "5RfP3pqda9AX"
      },
      "execution_count": null,
      "outputs": []
    },
    {
      "cell_type": "markdown",
      "source": [
        "# 2) Get satellite imagery and products to obtain pseudo-ground truth\n"
      ],
      "metadata": {
        "id": "J6U4l5No5DJ4"
      }
    },
    {
      "cell_type": "code",
      "source": [
        "# get Planet-NiCFI median composite of the first half of 2023\n",
        "nicfi_median_2023 = ee.ImageCollection('projects/planet-nicfi/assets/basemaps/africa') \\\n",
        "    .filterDate('2023-01-01','2023-6-30') \\\n",
        "    .median()\n",
        "\n",
        "# clip imagery with bounding boxes\n",
        "nicfi_images = nicfi_median_2023.clipToCollection(combined_geometry)"
      ],
      "metadata": {
        "id": "G7r0ND1gkPQ5"
      },
      "execution_count": null,
      "outputs": []
    },
    {
      "cell_type": "code",
      "source": [
        "# get the JRC Global Surface Water Mapping Layers product\n",
        "water = ee.Image(\"JRC/GSW1_4/GlobalSurfaceWater\")\n",
        "water = water.clipToCollection(combined_geometry)\n",
        "\n",
        "# resample to match Planet-NICFI pixel size\n",
        "water = water.resample('bilinear').reproject(crs='EPSG:4326', scale=4.77)\n",
        "\n",
        "water_vis = {\n",
        "    'bands': ['max_extent'],\n",
        "    'min': 0.0,\n",
        "    'max': 1.0\n",
        "}"
      ],
      "metadata": {
        "id": "UhlFBmPgIH68"
      },
      "execution_count": null,
      "outputs": []
    },
    {
      "cell_type": "code",
      "source": [
        "# Get World Settlement Footprint product\n",
        "urban = ee.Image('DLR/WSF/WSF2015/v1')\n",
        "urban = urban.clipToCollection(combined_geometry)\n",
        "urban_vis = {\n",
        "    'min': 0,\n",
        "    'max': 255\n",
        "}"
      ],
      "metadata": {
        "id": "SAbv0fxO8x-K"
      },
      "execution_count": null,
      "outputs": []
    },
    {
      "cell_type": "code",
      "source": [
        "# get Open Buildings product\n",
        "buildings = ee.FeatureCollection('GOOGLE/Research/open-buildings/v3/polygons') \\\n",
        "                    .filter('confidence >= 0.75')"
      ],
      "metadata": {
        "id": "otmxtTmy-EU6"
      },
      "execution_count": null,
      "outputs": []
    },
    {
      "cell_type": "code",
      "source": [
        "# diplay everything on an interactive map\n",
        "vis = {'bands':['R','G','B'],\n",
        "       'min':64,\n",
        "       'max':5454,\n",
        "       'gamma':1.8}\n",
        "\n",
        "fc = combined_geometry.style(\n",
        "    color='red'\n",
        ")\n",
        "\n",
        "Map = geemap.Map(center=[0, 0], zoom=2)\n",
        "Map.addLayer(fc, {}, 'Boxes')\n",
        "Map.addLayer(nicfi_images, vis, 'Planet-NICFI images')\n",
        "Map.addLayer(water, water_vis, 'Water bodies')\n",
        "Map.addLayer(urban, urban_vis, 'Urban areas')\n",
        "Map.addLayer(buildings, {'color': '00FF00'}, 'Buildigs')\n",
        "Map"
      ],
      "metadata": {
        "id": "hIMtQ_KU4kX_"
      },
      "execution_count": null,
      "outputs": []
    },
    {
      "cell_type": "markdown",
      "source": [
        "# 3) Image segmentation via K-means clustering\n"
      ],
      "metadata": {
        "id": "8Xppg_Z96Bq4"
      }
    },
    {
      "cell_type": "code",
      "source": [
        "def Kmeans(input, clusters_number, study_area, scale, num_pixels=1000):\n",
        "    \"\"\"\n",
        "    Perform K-means clustering on input imagery.\n",
        "\n",
        "    Parameters:\n",
        "    - input: ee.Image, the input image to be clustered.\n",
        "    - clusters_number: int, the number of clusters to form.\n",
        "    - study_area: ee.Geometry, the region over which to perform the clustering.\n",
        "    - scale: float, the spatial resolution in meters.\n",
        "    - num_pixels: int, number of pixels to sample for clustering.\n",
        "\n",
        "    Returns:\n",
        "    - ee.Image with the clustered classification.\n",
        "    \"\"\"\n",
        "    # make a sample from the input image for training\n",
        "    training = input.sample(\n",
        "        region=study_area,\n",
        "        scale=scale,\n",
        "        numPixels=num_pixels\n",
        "    )\n",
        "\n",
        "    # create clusterer\n",
        "    clusterer = ee.Clusterer.wekaKMeans(\n",
        "        nClusters=clusters_number,\n",
        "        init=1,\n",
        "        seed=10).train(training)\n",
        "\n",
        "    # apply clustering to the input image\n",
        "    classification = input.cluster(clusterer).select(0).rename('unsupervised_class')\n",
        "\n",
        "    return classification"
      ],
      "metadata": {
        "id": "pdla4y-L6Qj7"
      },
      "execution_count": null,
      "outputs": []
    },
    {
      "cell_type": "markdown",
      "source": [
        "Hereby we select 4 clusters as we expect 4 different land use types in the study area: ASM, forest, urban  areas, water bodies"
      ],
      "metadata": {
        "id": "iH3KXdEbsnUD"
      }
    },
    {
      "cell_type": "code",
      "source": [
        "# define parameters for the clustering\n",
        "n_clusters = 4\n",
        "scale = 4.77\n",
        "num_pixels = 5000\n",
        "\n",
        "# run clustering function\n",
        "Kmeans_segment = Kmeans(nicfi_with_ndvi,\n",
        "            n_clusters,\n",
        "            combined_geometry.geometry(),\n",
        "            scale,\n",
        "            num_pixels)"
      ],
      "metadata": {
        "id": "BAYhzz3g_R78"
      },
      "execution_count": null,
      "outputs": []
    },
    {
      "cell_type": "markdown",
      "source": [
        "In the case of K-means, need to check in the map below which cluster represents the ASM sites and modify the two remap lists. Note: this part is hard-coded, and the cluster related to the ASM sites can change at each run"
      ],
      "metadata": {
        "id": "W9WZPl-XwYqH"
      }
    },
    {
      "cell_type": "code",
      "source": [
        "Map.addLayer(Kmeans_segment.select('unsupervised_class').randomVisualizer(),\n",
        "             {},\n",
        "             'K-means segmentation',\n",
        "             True)"
      ],
      "metadata": {
        "id": "BxUFo7MwfdXT"
      },
      "execution_count": null,
      "outputs": []
    },
    {
      "cell_type": "code",
      "source": [
        "# reclassify the segmented training images\n",
        "from_list = [0, 1, 2, 3]\n",
        "to_list = [0, 1, 0, 0] # cluster 1 is the cluster of the ASM sites\n",
        "\n",
        "Kmeans_reclass = Kmeans_segment.remap(from_list, to_list, defaultValue=0,\n",
        "                                        bandName='unsupervised_class')"
      ],
      "metadata": {
        "id": "FGmR9pKmTqTN"
      },
      "execution_count": null,
      "outputs": []
    },
    {
      "cell_type": "code",
      "source": [
        "# add the reclassified raster on the map\n",
        "Map.addLayer(Kmeans_reclass, None, 'K-means reclassified')\n",
        "Map"
      ],
      "metadata": {
        "id": "O_Ty1ozuFMw3"
      },
      "execution_count": null,
      "outputs": []
    },
    {
      "cell_type": "code",
      "source": [
        "# create binary mask to exclude building footporint\n",
        "buildings_mask = ee.Image().paint(buildings, 1).unmask(0).Not()\n",
        "buildings_mask = buildings_mask.clipToCollection(combined_geometry)\n",
        "\n",
        "# create binary mask to exclude water bodies\n",
        "water_mask = water.select('max_extent').gt(0).Not() # invert the mask\n",
        "\n",
        "# create binary mask to exclude urban areas\n",
        "urban_mask = urban.select('settlement').gt(0).eq(1)\n",
        "urban_mask = urban_mask.where(urban_mask, 0)\n",
        "urban_mask = urban_mask.unmask(1).clipToCollection(combined_geometry) # fill the Null pixels with 1\n",
        "\n",
        "Map.addLayer(water_mask, {}, 'Water Mask')\n",
        "Map.addLayer(urban_mask, {}, 'Urban Mask')\n",
        "Map.addLayer(buildings_mask, {}, 'Buildings Mask')\n",
        "\n",
        "# combine masks\n",
        "combined_mask = water_mask.And(urban_mask).And(buildings_mask)\n",
        "Map.addLayer(combined_mask, {}, 'Combined Mask')\n",
        "\n",
        "# apply combined mask to the ground truth layer\n",
        "gt_mask = Kmeans_reclass.where(combined_mask.eq(0), 0)\n",
        "Map.addLayer(gt_mask, {}, 'Masked GT')\n",
        "\n",
        "Map"
      ],
      "metadata": {
        "id": "trKIU5zBRxRG"
      },
      "execution_count": null,
      "outputs": []
    },
    {
      "cell_type": "markdown",
      "source": [
        "# 4) Export results from GEE"
      ],
      "metadata": {
        "id": "Wu9xP1nhSQqA"
      }
    },
    {
      "cell_type": "markdown",
      "source": [
        "Hereby the images are exported from GEE to Google Drive as .tif files. A loop for each subset is needed (trainining images, training ground truth, testing images, testing ground truth)."
      ],
      "metadata": {
        "id": "Rr9g2dArXncN"
      }
    },
    {
      "cell_type": "code",
      "source": [
        "# convert boxes feature collections to list\n",
        "boxes_list = combined_geometry.toList(combined_geometry.size())"
      ],
      "metadata": {
        "id": "Wr6_RsdNwteO"
      },
      "execution_count": null,
      "outputs": []
    },
    {
      "cell_type": "code",
      "source": [
        "ee.Feature(boxes_list.get(0)).geometry().crs"
      ],
      "metadata": {
        "id": "_lb-VLb1poO3"
      },
      "execution_count": null,
      "outputs": []
    },
    {
      "cell_type": "code",
      "source": [
        "# loop over the list of boxes and export Planet images\n",
        "for i in range(boxes_list.size().getInfo()):\n",
        "    # get i-th feature\n",
        "    feature = ee.Feature(boxes_list.get(i))\n",
        "\n",
        "    # get the feature geometry\n",
        "    geometry = feature.geometry()\n",
        "\n",
        "    # define export params\n",
        "    train_export_params = {\n",
        "        'image': nicfi_images,\n",
        "        'description': 'nicfi_' + str(i),\n",
        "        'folder': 'thesis_planet_images',\n",
        "        'scale': 4.77,\n",
        "        'region': geometry,\n",
        "        'maxPixels': 1e13\n",
        "    }\n",
        "\n",
        "    # export image to drive\n",
        "    task = ee.batch.Export.image.toDrive(**train_export_params)\n",
        "    task.start()"
      ],
      "metadata": {
        "id": "WdrLfUnCBRPf"
      },
      "execution_count": null,
      "outputs": []
    },
    {
      "cell_type": "code",
      "source": [
        "# loop over the list of boxes and export ground truth images\n",
        "for i in range(boxes_list.size().getInfo()):\n",
        "    # get i-th feature\n",
        "    feature = ee.Feature(boxes_list.get(i))\n",
        "\n",
        "    # get the feature geometry\n",
        "    geometry = feature.geometry()\n",
        "\n",
        "    # define export params\n",
        "    train_export_params = {\n",
        "        'image': gt_mask,\n",
        "        'description': 'nicfi_gt_' + str(i),\n",
        "        'folder': 'thesis_Kmeans_gt',\n",
        "        'scale': 4.77,\n",
        "        'region': geometry,\n",
        "        'maxPixels': 1e13\n",
        "    }\n",
        "\n",
        "    # export image to drive\n",
        "    task = ee.batch.Export.image.toDrive(**train_export_params)\n",
        "    task.start()"
      ],
      "metadata": {
        "id": "Uok0oQB58PuT"
      },
      "execution_count": null,
      "outputs": []
    }
  ]
}