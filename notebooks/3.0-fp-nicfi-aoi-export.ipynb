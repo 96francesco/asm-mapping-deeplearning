{
  "nbformat": 4,
  "nbformat_minor": 0,
  "metadata": {
    "colab": {
      "provenance": [],
      "machine_shape": "hm",
      "history_visible": true
    },
    "kernelspec": {
      "name": "python3",
      "display_name": "Python 3"
    },
    "language_info": {
      "name": "python"
    }
  },
  "cells": [
    {
      "cell_type": "markdown",
      "source": [
        "# 0) Install and import packages"
      ],
      "metadata": {
        "id": "UXaN_yotlDt2"
      }
    },
    {
      "cell_type": "code",
      "source": [
        "import os\n",
        "import ee\n",
        "import geemap\n",
        "import json\n",
        "\n",
        "from google.colab import files"
      ],
      "metadata": {
        "id": "LJKzB0Chk-im"
      },
      "execution_count": null,
      "outputs": []
    },
    {
      "cell_type": "code",
      "source": [
        "Map = geemap.Map() # initialize GEE and geemap"
      ],
      "metadata": {
        "id": "2HJaTuwu9AnD"
      },
      "execution_count": null,
      "outputs": []
    },
    {
      "cell_type": "markdown",
      "source": [
        "# 1) Upload and visualize administrative borders\n"
      ],
      "metadata": {
        "id": "PZpsvCgFgxJL"
      }
    },
    {
      "cell_type": "code",
      "source": [
        "# upload the geojson with the administrative borders (from GADM)\n",
        "uploaded = files.upload()"
      ],
      "metadata": {
        "id": "zCuiP4cCTcn3"
      },
      "execution_count": null,
      "outputs": []
    },
    {
      "cell_type": "code",
      "source": [
        "# get the filename\n",
        "filename = next(iter(uploaded))"
      ],
      "metadata": {
        "id": "1IqdmM52UglJ"
      },
      "execution_count": null,
      "outputs": []
    },
    {
      "cell_type": "code",
      "source": [
        "# load the GeoJSON file into dictionary\n",
        "with open(filename, 'r') as f:\n",
        "    geojson_dict = json.load(f)"
      ],
      "metadata": {
        "id": "79TT4mGfUhlO"
      },
      "execution_count": null,
      "outputs": []
    },
    {
      "cell_type": "code",
      "source": [
        "# convert geojson to ee.FeatureCollection\n",
        "ee_object = geemap.geojson_to_ee(geojson_dict)"
      ],
      "metadata": {
        "id": "sziSHoLRUycu"
      },
      "execution_count": null,
      "outputs": []
    },
    {
      "cell_type": "code",
      "source": [
        "# Make a map to visualise the admnistrative borders\n",
        "Map = geemap.Map()\n",
        "Map.addLayer(ee_object, {}, 'Area of interest')\n",
        "Map.centerObject(ee_object)\n",
        "Map"
      ],
      "metadata": {
        "id": "53DjXcWOVZd8"
      },
      "execution_count": null,
      "outputs": []
    },
    {
      "cell_type": "markdown",
      "source": [
        "# 2) Make grid and export  export tiles"
      ],
      "metadata": {
        "id": "3i4qkUBZg25u"
      }
    },
    {
      "cell_type": "code",
      "source": [
        "def generate_grid(region, scale, pixelWidth=375, pixelHeight=375):\n",
        "    bounds = region.geometry().bounds()\n",
        "    coords = ee.List(bounds.coordinates().get(0))\n",
        "\n",
        "    # extract the coordinates from AOI\n",
        "    xmin = ee.List(coords.get(0)).get(0)\n",
        "    ymin = ee.List(coords.get(0)).get(1)\n",
        "    xmax = ee.List(coords.get(2)).get(0)\n",
        "    ymax = ee.List(coords.get(2)).get(1)\n",
        "\n",
        "    # calculate the width and height in meters of each tile\n",
        "    width_in_meters = ee.Number(pixelWidth).multiply(scale)\n",
        "    height_in_meters = ee.Number(pixelHeight).multiply(scale)\n",
        "\n",
        "    # convert meters to degrees approximately for longitude and latitude\n",
        "    # this is done in an approximate way, using a conversion factor for degrees\n",
        "    dx = width_in_meters.divide(111320)\n",
        "    dy = height_in_meters.divide(110540)\n",
        "\n",
        "    # create sequences for longitude and latitude to generate grid points\n",
        "    longs = ee.List.sequence(xmin, xmax, dx)\n",
        "    lats = ee.List.sequence(ymax, ymin, dy.multiply(-1))  # ensure decrement for latitude\n",
        "\n",
        "    # helper function to create grid rectangles\n",
        "    def make_rects_lon(lon):\n",
        "        lon = ee.Number(lon)  # lon must be ee.Number for arithmetic operations\n",
        "        def make_rects_lat(lat):\n",
        "            lat = ee.Number(lat)  # same for lat\n",
        "            rect = ee.Geometry.Rectangle([lon, lat, lon.add(dx), lat.add(dy)])\n",
        "            return ee.Feature(rect)\n",
        "\n",
        "        return lats.map(make_rects_lat)\n",
        "\n",
        "    # make the grid and flatten the resulting list of lists\n",
        "    rects = longs.map(make_rects_lon).flatten()\n",
        "    grid = ee.FeatureCollection(rects)\n",
        "\n",
        "    return grid\n",
        "\n",
        "def save_progress(index):\n",
        "with open(\"export_progress.txt\", \"w\") as file:\n",
        "    file.write(str(index))\n",
        "\n",
        "def load_progress():\n",
        "    try:\n",
        "        with open(\"export_progress.txt\", \"r\") as file:\n",
        "            return int(file.read())\n",
        "    except FileNotFoundError:\n",
        "        return 0  # default to 0 if the progress file doesn't exist\n",
        "\n",
        "def export_single_tile(image, tile, folder_name, index, scale=4.77):\n",
        "    clipped_image = image.clip(tile.geometry())\n",
        "\n",
        "    # include index in the image name\n",
        "    description = f'nicfi_{index}'\n",
        "\n",
        "    task = ee.batch.Export.image.toDrive(\n",
        "        image=clipped_image,\n",
        "        description=description,\n",
        "        folder=folder_name,\n",
        "        scale=scale,\n",
        "        maxPixels=1e13\n",
        "    )\n",
        "    task.start()\n",
        "\n",
        "def export_tiles(image_collection, grid, aoi, folder_name, scale=4.77):\n",
        "    # load the last completed tile index\n",
        "    start_index = load_progress()\n",
        "    total_tiles = grid.size().getInfo()\n",
        "\n",
        "    # filter the grid to include only cells that intersect the AOI\n",
        "    intersecting_cells = grid.filterBounds(aoi)\n",
        "\n",
        "    # get list of intersecting cells\n",
        "    intersecting_list = intersecting_cells.toList(intersecting_cells.size())\n",
        "\n",
        "    # update the total number of tiles to the number of intersecting cells\n",
        "    total_tiles = intersecting_cells.size().getInfo()\n",
        "\n",
        "    for i in range(start_index, total_tiles):\n",
        "        # get the current tile\n",
        "        tile = ee.Feature(intersecting_list.get(i))\n",
        "        description = f'nicfi_{i}'\n",
        "\n",
        "        # start the export task\n",
        "        task = ee.batch.Export.image.toDrive(\n",
        "            image=image_collection,\n",
        "            description=description,\n",
        "            folder=folder_name,\n",
        "            scale=scale,\n",
        "            region=tile.geometry().bounds(),  # use the bounds of the tile\n",
        "            maxPixels=1e13\n",
        "        )\n",
        "        task.start()\n",
        "\n",
        "        # save progress after each successful submission\n",
        "        save_progress(i + 1)\n",
        "        print(f'Submitted tile {i+1} of {total_tiles}')"
      ],
      "metadata": {
        "id": "maLqnmoyg-UZ"
      },
      "execution_count": null,
      "outputs": []
    },
    {
      "cell_type": "code",
      "source": [
        "# prepare imagery and create grid\n",
        "nicfi = ee.ImageCollection('projects/planet-nicfi/assets/basemaps/africa').filterDate('2023-01-01', '2023-06-30').median()\n",
        "grid_tiles = generate_grid(ee_object, 4.77, 375, 375)"
      ],
      "metadata": {
        "id": "elMEsaLe4O9p"
      },
      "execution_count": null,
      "outputs": []
    },
    {
      "cell_type": "code",
      "source": [
        "# run the export\n",
        "# when the process stops because of too many tasks submitted, after a while just\n",
        "# run again this line; it will read the export_progress file and start over from\n",
        "# where it stopped\n",
        "export_tiles(nicfi, grid_tiles, ee_object, \"NICFI_Tiles\", 4.77)"
      ],
      "metadata": {
        "id": "a0wqj6V31p8i"
      },
      "execution_count": null,
      "outputs": []
    },
    {
      "cell_type": "code",
      "source": [
        "# !earthengine task cancel all"
      ],
      "metadata": {
        "id": "mzD18G24wLoP"
      },
      "execution_count": null,
      "outputs": []
    }
  ]
}