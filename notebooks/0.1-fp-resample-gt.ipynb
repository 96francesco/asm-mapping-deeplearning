{
  "cells": [
    {
      "cell_type": "markdown",
      "metadata": {},
      "source": [
        "This notebook was used to resample the ground truth images to match the pixel size of Sentinel-1 images and train the Sentinel-1 standalone model. This was necessary because the ground truth was generated using Planet-NICFI images, so it originally had a pixel size of 4.77 m."
      ]
    },
    {
      "cell_type": "code",
      "execution_count": null,
      "metadata": {
        "id": "hu5wtyKJd2TN"
      },
      "outputs": [],
      "source": [
        "# !pip install rasterio -qqq"
      ]
    },
    {
      "cell_type": "code",
      "execution_count": null,
      "metadata": {
        "id": "3hKejp8adVJf"
      },
      "outputs": [],
      "source": [
        "import rasterio\n",
        "from rasterio.enums import Resampling\n",
        "import os\n",
        "import numpy as np"
      ]
    },
    {
      "cell_type": "code",
      "execution_count": null,
      "metadata": {
        "id": "U65D-UJEhUX6"
      },
      "outputs": [],
      "source": [
        "# desired output dimensions\n",
        "# it was chosen 180x180 because it was the dimension of Sentinel-1 images\n",
        "target_width = 180\n",
        "target_height = 180\n",
        "\n",
        "# path of ground truth images\n",
        "gt_folder_path = '/content/drive/MyDrive/mgi_thesis/gt_binary'\n",
        "\n",
        "\n",
        "# iterate over all ground truth images in the folder\n",
        "for gt_image_filename in os.listdir(gt_folder_path):\n",
        "    gt_image_path = os.path.join(gt_folder_path, gt_image_filename)\n",
        "    if gt_image_path.endswith('.tif'):\n",
        "        with rasterio.open(gt_image_path) as gt_dataset:\n",
        "\n",
        "            # resample the image\n",
        "            data = gt_dataset.read(\n",
        "                out_shape=(gt_dataset.count, target_height, target_width),\n",
        "                resampling=Resampling.bilinear\n",
        "            )\n",
        "            data = np.squeeze(data)\n",
        "\n",
        "            # Update metadata for the resampled image\n",
        "            out_meta = gt_dataset.meta.copy()\n",
        "            out_meta.update({\n",
        "                \"driver\": \"GTiff\",\n",
        "                \"width\": target_width,\n",
        "                \"height\": target_height,\n",
        "                \"count\": 1,  # ground truth images have only 1 bands\n",
        "\n",
        "                # update transform based on new dimensions\n",
        "                \"transform\": rasterio.transform.from_bounds(*gt_dataset.bounds, target_width, target_height)\n",
        "            })\n",
        "\n",
        "            # save the resampled image\n",
        "            target_folder = '/content/drive/MyDrive/mgi_thesis/gt_binary_resampled_s1'\n",
        "            resampled_gt_image_path = os.path.join(target_folder, f\"resampled_{gt_image_filename}\")\n",
        "            with rasterio.open(resampled_gt_image_path, 'w', **out_meta) as out_dataset:\n",
        "                out_dataset.write(data, 1)\n"
      ]
    }
  ],
  "metadata": {
    "colab": {
      "provenance": []
    },
    "kernelspec": {
      "display_name": "Python 3",
      "name": "python3"
    },
    "language_info": {
      "name": "python"
    }
  },
  "nbformat": 4,
  "nbformat_minor": 0
}
