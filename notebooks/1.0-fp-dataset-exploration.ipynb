{
 "cells": [
  {
   "cell_type": "markdown",
   "metadata": {},
   "source": [
    "# 0) Import packages"
   ]
  },
  {
   "cell_type": "code",
   "execution_count": null,
   "metadata": {},
   "outputs": [],
   "source": [
    "import os\n",
    "import matplotlib.pyplot as plt\n",
    "import torch\n",
    "import numpy as np\n",
    "\n",
    "from pytorch_lightning import seed_everything\n",
    "from torch.utils.data import DataLoader\n",
    "\n",
    "# import custom libraries\n",
    "from data.s1_dataset import Sentinel1Dataset\n",
    "from data.planet_dataset import PlanetDataset\n",
    "from data.s1_dataset_normalization import linear_norm_global_percentile as linear_norm_percentile_s1\n",
    "from data.planet_dataset_normalization import linear_norm_global_percentile as linear_norm_percentile_planet\n",
    "from data.fusion_dataset import FusionDataset"
   ]
  },
  {
   "cell_type": "code",
   "execution_count": null,
   "metadata": {},
   "outputs": [],
   "source": [
    "seed_everything(96, workers=True)"
   ]
  },
  {
   "cell_type": "markdown",
   "metadata": {},
   "source": [
    "# 1) Initialize and inspect Sentinel-1 dataset"
   ]
  },
  {
   "cell_type": "code",
   "execution_count": null,
   "metadata": {},
   "outputs": [],
   "source": [
    "training_dir = '/mnt/guanabana/raid/home/pasan001/thesis/dataset/asm_dataset_split_0/s1/training_data'\n",
    "\n",
    "training_dataset = Sentinel1Dataset(training_dir,\n",
    "                                 pad=False,\n",
    "                                 normalization=None)"
   ]
  },
  {
   "cell_type": "code",
   "execution_count": null,
   "metadata": {},
   "outputs": [],
   "source": [
    "# check if the padding worked out\n",
    "training_dataset.__getitem__(10)"
   ]
  },
  {
   "cell_type": "code",
   "execution_count": null,
   "metadata": {},
   "outputs": [],
   "source": [
    "def plot_band_histograms(image):\n",
    "    bands = ['VV', 'VH']\n",
    "    plt.figure(figsize=(10, 8))\n",
    "\n",
    "    for i, band in enumerate(bands):\n",
    "        plt.subplot(2, 2, i + 1)\n",
    "        plt.hist(image[i].ravel(), bins=256, color='k', alpha=0.5)\n",
    "        plt.title(f'{band} band histogram')\n",
    "        plt.xlim([-30, 0])\n",
    "        plt.ylim([0, 1000])\n",
    "    plt.tight_layout()\n",
    "    plt.show()\n",
    "\n",
    "def plot_example(dataset, normalization, indices=None, num_examples=3):\n",
    "    if indices is None:\n",
    "        indices = torch.randint(len(dataset), size=(num_examples,)).tolist()\n",
    "    else:\n",
    "        num_examples = len(indices)\n",
    "    \n",
    "    fig, axs = plt.subplots(num_examples, 3, figsize=(10, num_examples * 4))\n",
    "\n",
    "    for i, idx in enumerate(indices):\n",
    "        img_tensor, gt_tensor = dataset[idx]\n",
    "        img_file_name = dataset.dataset[idx][0]\n",
    "        img_index = img_file_name.split('_')[-1].split('.')[0]\n",
    "\n",
    "        # check and convert data type for visualisation\n",
    "        img = img_tensor.numpy()\n",
    "\n",
    "        if normalization is not None:\n",
    "            img = normalization(img)\n",
    "\n",
    "        gt = gt_tensor.numpy()\n",
    "\n",
    "        # make plots\n",
    "        axs[i, 0].imshow(img[0],  cmap='gray')\n",
    "        axs[i, 0].set_title(f\"Image {img_index} - VV\")\n",
    "        axs[i, 0].axis('off')\n",
    "\n",
    "        axs[i, 1].imshow(img[1],  cmap='gray')\n",
    "        axs[i, 1].set_title(f\"Image {img_index} - VH\")\n",
    "        axs[i, 1].axis('off')\n",
    "\n",
    "        axs[i, 2].imshow(gt, cmap='gray')\n",
    "        axs[i, 2].set_title(f\"Ground Truth {img_index}\")\n",
    "        axs[i, 2].axis('off')\n",
    "\n",
    "    plt.tight_layout()\n",
    "    plt.show()"
   ]
  },
  {
   "cell_type": "code",
   "execution_count": null,
   "metadata": {},
   "outputs": [],
   "source": [
    "plot_band_histograms(training_dataset[0][0])"
   ]
  },
  {
   "cell_type": "code",
   "execution_count": null,
   "metadata": {},
   "outputs": [],
   "source": [
    "plot_example(training_dataset, indices=[10, 765, 458], normalization=linear_norm_percentile_s1)"
   ]
  },
  {
   "cell_type": "markdown",
   "metadata": {},
   "source": [
    "# 2) Initialize and inspect Planet-NICFI dataset"
   ]
  },
  {
   "cell_type": "code",
   "execution_count": null,
   "metadata": {},
   "outputs": [],
   "source": [
    "training_dir = '/mnt/guanabana/raid/home/pasan001/thesis/dataset/asm_dataset_split_0/planet/binary/training_data'\n",
    "\n",
    "training_dataset = PlanetDataset(training_dir,\n",
    "                                    pad=False,\n",
    "                                    normalization=None)"
   ]
  },
  {
   "cell_type": "code",
   "execution_count": null,
   "metadata": {},
   "outputs": [],
   "source": [
    "def plot_band_histograms(image):\n",
    "    bands = ['Blue', 'Green', 'Red', 'NIR']\n",
    "    plt.figure(figsize=(10, 8))\n",
    "\n",
    "    for i, band in enumerate(bands):\n",
    "        plt.subplot(2, 2, i + 1)\n",
    "        plt.hist(image[i].ravel(), bins=256, color='k', alpha=0.5)\n",
    "        plt.title(f'{band} band histogram')\n",
    "        plt.xlim([0, 4500])\n",
    "        plt.ylim([0, 8000])\n",
    "    plt.tight_layout()\n",
    "    plt.show()"
   ]
  },
  {
   "cell_type": "code",
   "execution_count": null,
   "metadata": {},
   "outputs": [],
   "source": [
    "def plot_example(dataset, normalization, indices=None, num_examples=3, vi='ndvi'):\n",
    "    if indices is None:\n",
    "        indices = torch.randint(len(dataset), size=(num_examples,)).tolist()\n",
    "    else:\n",
    "        num_examples = len(indices)\n",
    "\n",
    "    fig, axs = plt.subplots(num_examples, 3, figsize=(12, num_examples * 4))\n",
    "\n",
    "    for i, idx in enumerate(indices):\n",
    "        img_tensor, gt_tensor = dataset[idx]\n",
    "        # extract file name and index\n",
    "        img_file_name = dataset.dataset[idx][0]\n",
    "        img_index = img_file_name.split('_')[-1].split('.')[0]\n",
    "\n",
    "        # check and convert data type\n",
    "        img = img_tensor.numpy()\n",
    "\n",
    "        # reorder bands from BGR to RGB\n",
    "        img = img[[2, 1, 0], :, :]\n",
    "\n",
    "        if normalization is not None:\n",
    "            img = normalization(img)\n",
    "        else:\n",
    "            # scale for  visualisation\n",
    "            img = (img / 10000.0) * 255\n",
    "            # img = np.clip(img, 0, 255)\n",
    "            img = img.astype(np.uint8)\n",
    "\n",
    "        # reorder dimensions to (height, width, channels) as expected from matplotlib\n",
    "        img = np.transpose(img, (1, 2, 0))\n",
    "\n",
    "        # ensure ground truth is uint8\n",
    "        # gt = gt_tensor.numpy().astype(np.uint8)\n",
    "        gt = gt_tensor.numpy()\n",
    "\n",
    "        # extract  NDVI from the dataset\n",
    "        ndvi = img_tensor[4, :, :].numpy()\n",
    "        savi = img_tensor[5, :, :].numpy()\n",
    "        ndwi = img_tensor[6, :, :].numpy()\n",
    "\n",
    "        # make plot\n",
    "        axs[i, 0].imshow(img)\n",
    "        axs[i, 0].set_title(f\"Image {img_index} - RGB\")\n",
    "        axs[i, 0].axis('off')\n",
    "\n",
    "        if vi == 'ndvi':\n",
    "            axs[i, 1].imshow(ndvi, cmap='RdYlGn')\n",
    "            axs[i, 1].set_title(f\"NDVI\")\n",
    "            axs[i, 1].axis('off')\n",
    "        elif vi == 'savi':\n",
    "            axs[i, 1].imshow(savi, cmap='RdYlGn')\n",
    "            axs[i, 1].set_title(f\"SAVI\")\n",
    "            axs[i, 1].axis('off')\n",
    "        elif vi == 'ndwi':\n",
    "            axs[i, 1].imshow(ndwi, cmap='RdYlBu')\n",
    "            axs[i, 1].set_title(f\"NDWI\")\n",
    "            axs[i, 1].axis('off')\n",
    "\n",
    "        axs[i, 2].imshow(gt, cmap='gray')\n",
    "        axs[i, 2].set_title(f\"Ground Truth {img_index}\")\n",
    "        axs[i, 2].axis('off')\n",
    "\n",
    "    plt.tight_layout()\n",
    "    plt.show()"
   ]
  },
  {
   "cell_type": "code",
   "execution_count": null,
   "metadata": {},
   "outputs": [],
   "source": [
    "# call the function using a non-normalized image tensor\n",
    "plot_band_histograms(training_dataset[13][0].numpy())"
   ]
  },
  {
   "cell_type": "code",
   "execution_count": null,
   "metadata": {},
   "outputs": [],
   "source": [
    "# plot some examples choosing a normalization method\n",
    "# wdvi is blank due to the range of this index [-1, 1]\n",
    "plot_example(training_dataset, indices=[11, 13, 1],\n",
    "             normalization=linear_norm_percentile_planet,\n",
    "             vi='ndvi')"
   ]
  },
  {
   "cell_type": "markdown",
   "metadata": {},
   "source": [
    "# 3) Initialize and inspect fusion dataset"
   ]
  },
  {
   "cell_type": "code",
   "execution_count": null,
   "metadata": {},
   "outputs": [],
   "source": [
    "data_dir = '/mnt/guanabana/raid/home/pasan001/thesis/dataset/asm_dataset_split_0/fusion'"
   ]
  },
  {
   "cell_type": "code",
   "execution_count": null,
   "metadata": {},
   "outputs": [],
   "source": [
    "late_fusion_dataset = FusionDataset(root_dir=data_dir, train=True)\n",
    "\n",
    "data_loader = DataLoader(late_fusion_dataset, batch_size=2, shuffle=True)\n",
    "\n",
    "# Fetch a batch of data\n",
    "for planet_data, s1_data, gt in data_loader:\n",
    "    print(s1_data.shape, planet_data.shape)\n",
    "    break\n"
   ]
  },
  {
   "cell_type": "code",
   "execution_count": null,
   "metadata": {},
   "outputs": [],
   "source": [
    "def plot_fusion_examples(dataset, normalization, indices=None, num_examples=3):\n",
    "    if indices is None:\n",
    "        indices = np.random.randint(0, len(dataset), size=(num_examples,))\n",
    "    \n",
    "    fig, axs = plt.subplots(num_examples, 3, figsize=(15, num_examples * 5))\n",
    "\n",
    "    for i, idx in enumerate(indices):\n",
    "        planet_data, s1_data, gt = dataset[idx]\n",
    "\n",
    "        # convert tensors to numpy for plotting\n",
    "        planet_img = planet_data.numpy()\n",
    "        planet_img = planet_img[[2, 1, 0], :, :]\n",
    "\n",
    "        # apply normalization only on Planet images to improve visualization\n",
    "        if normalization is not None:\n",
    "            planet_img = normalization(planet_img)\n",
    "        else:\n",
    "            planet_img = (planet_img / 10000.0) * 255\n",
    "            planet_img = planet_img.astype(np.uint8)\n",
    "        \n",
    "        # reorder dimensions to (height, width, channels) as expected from matplotlib\n",
    "        planet_img = np.transpose(planet_img, (1, 2, 0))\n",
    "\n",
    "        s1_img = s1_data.numpy()\n",
    "        gt_img = gt.numpy()\n",
    "\n",
    "        # plot Planet image\n",
    "        axs[i, 0].imshow(planet_img)\n",
    "        axs[i, 0].set_title(f'Planet Image {idx}')\n",
    "        axs[i, 0].axis('off')\n",
    "\n",
    "        # plot Sentinel-1 image - VV band\n",
    "        axs[i, 1].imshow(s1_img[0], cmap='gray')\n",
    "        axs[i, 1].set_title(f'Sentinel-1 Image {idx} - VV')\n",
    "        axs[i, 1].axis('off')\n",
    "\n",
    "        # plot Ground Truth\n",
    "        axs[i, 2].imshow(gt_img, cmap='gray')\n",
    "        axs[i, 2].set_title(f'Ground Truth {idx}')\n",
    "        axs[i, 2].axis('off')\n",
    "\n",
    "    plt.tight_layout()\n",
    "    plt.show()\n"
   ]
  },
  {
   "cell_type": "code",
   "execution_count": null,
   "metadata": {},
   "outputs": [],
   "source": [
    "plot_fusion_examples(late_fusion_dataset, normalization=linear_norm_percentile_planet, \n",
    "                        indices=[10, 144, 324], num_examples=3)"
   ]
  }
 ],
 "metadata": {
  "kernelspec": {
   "display_name": "asmenv",
   "language": "python",
   "name": "python3"
  },
  "language_info": {
   "codemirror_mode": {
    "name": "ipython",
    "version": 3
   },
   "file_extension": ".py",
   "mimetype": "text/x-python",
   "name": "python",
   "nbconvert_exporter": "python",
   "pygments_lexer": "ipython3",
   "version": "3.10.13"
  }
 },
 "nbformat": 4,
 "nbformat_minor": 2
}
